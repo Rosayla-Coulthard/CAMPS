{
 "cells": [
  {
   "cell_type": "code",
   "execution_count": 3,
   "metadata": {},
   "outputs": [],
   "source": [
    "import json\n",
    "import utilfuncs\n",
    "import dataloader as dl\n",
    "import plotmaker\n",
    "\n",
    "cache_path = \"Data/cache.json\""
   ]
  },
  {
   "cell_type": "code",
   "execution_count": 9,
   "metadata": {},
   "outputs": [
    {
     "name": "stdout",
     "output_type": "stream",
     "text": [
      "List of galaxies: ['Scl', 'For', 'LeoI', 'Sex', 'LeoII', 'CVnI', 'UMi', 'Dra']\n"
     ]
    }
   ],
   "source": [
    "cache = json.load(open(cache_path, \"r\"))\n",
    "\n",
    "gal_list = list(cache.keys())\n",
    "print(f\"List of galaxies: {gal_list[1:]}\")\n",
    "\n",
    "# utilfunc.load_data(cache_path, table_columns*, kw_arg(galaxy, paper, etc))\n",
    "# TODO: A universal data-loading function\n",
    "# TODO: Understand what each paper is doing\n",
    "\n",
    "# Presentation for all the literature that I've covered. Understand what's been done \n",
    "#   and how the data has been collected. Goal: 20~30 min summary talk, tell audience \n",
    "#   which reference is the best to be used for what, and how much we should trust them.\n",
    "#   Include a bit of cross-comparison, compare what each study has sone for the same physical value\n",
    "\n",
    "# List of questions:\n",
    "# - Instruments for each paper\n",
    "# - Spectral resolution, \n",
    "# - Fitting methodlogy, and put them in README. \n",
    "# (There tend to be two modes: equivalent width, which is to fit absorption features individually,\n",
    "# and spectrum synthesis, where they use a model spectrum to compare with the whole observed spectrum)\n",
    "# - Check consistency between papers. \n",
    "# The idea is to check how robust the data is. Which one should be trust more than the other? Either answer that question, or put forward the information that will help answering that question."
   ]
  },
  {
   "cell_type": "code",
   "execution_count": 10,
   "metadata": {},
   "outputs": [],
   "source": [
    "# Watch out for the edge case: two stars being named the same way by two different papers\n",
    "# Download Apogee?\n",
    "# Expand the README page to to include the sources\n",
    "# Include a column to link the instrument\n",
    "\n",
    "# A function, if specify element & dSph name, return an astropy.table with star name, ONE RE & DEC for each star, and column from either catalog\n",
    "# If a star is in two references, return the values from both literatures, and make them into an astropy.table\n",
    "\n",
    "# Add the following functions\n",
    "# 1. A list of dSphs, a list of element abundances, and return a table containing name, RA, DEC, and the abundance of each element, and a column indicating source of data, and a column of galaxy\n",
    "#    Generate unique ID for each star. One star may take multiple rows, but we know they're the same star given a unique ID.\n",
    "#    Rows = number of measurements, columns = number of things being measured\n",
    "# 2. "
   ]
  },
  {
   "cell_type": "code",
   "execution_count": 11,
   "metadata": {},
   "outputs": [],
   "source": [
    "# Set catalog_type to \"VizieR\" to distinguish between Vizier and manually imported data files\n",
    "\n",
    "# TODO when refreshing the cache:\n",
    "# - Saving a catalog type (i.e. VizieR)\n",
    "# - Saving the vizier table name\n",
    "# - Read database into an exportable table"
   ]
  },
  {
   "cell_type": "code",
   "execution_count": 43,
   "metadata": {},
   "outputs": [
    {
     "name": "stdout",
     "output_type": "stream",
     "text": [
      "Retrieving catalog J/ApJ/891/85...\n",
      "[0] J/ApJ/891/85/table7\n",
      "[1] J/ApJ/891/85/table4\n",
      "[2] J/ApJ/891/85/table1\n",
      "[3] J/ApJ/891/85/table3\n",
      "Found the following columns: ['_RAJ2000', '_DEJ2000', 'Gal', 'ID', 'dTeff125K', 'dTeff250K', 'dlogg03', 'dlogg06', 'Simbad', '_RA', '_DE']\n",
      "Adding stars...\n",
      "Done adding stars.\n",
      "Saving catalog to JSON...\n",
      "<class 'dict'>\n",
      "Done saving catalog.\n"
     ]
    }
   ],
   "source": [
    "prompt=\"J/ApJ/891/85\"\n",
    "savepath=\"Temp/de los Reyes 2020(1).json\"\n",
    "UI=\"ID\"\n",
    "gal_title='Gal'\n",
    "table_num=1\n",
    "paper_name=\"de los Reyes 2020\"\n",
    "single_galaxy=False\n",
    "gal_name = \"TriII\"\n",
    "\n",
    "# Multiple galaxies\n",
    "_ = dl.retrieve_catalog(prompt=prompt, savepath=savepath, UI=UI, gal_title=gal_title, table_num=table_num, paper_name=paper_name, single_galaxy=False)\n",
    "\n",
    "# Single galaxy\n",
    "# _ = dl.retrieve_catalog(prompt=prompt, savepath=savepath, UI=UI, gal_title=gal_title, table_num=table_num, paper_name=paper_name, gal_name=gal_name, single_galaxy=True)"
   ]
  },
  {
   "cell_type": "code",
   "execution_count": 44,
   "metadata": {},
   "outputs": [
    {
     "name": "stdout",
     "output_type": "stream",
     "text": [
      "Star 1013086 not found in Temp/de los Reyes 2020(0).json. Adding star...\n",
      "Done merging Temp/de los Reyes 2020(1).json into Temp/de los Reyes 2020(0).json. \n",
      "\n"
     ]
    }
   ],
   "source": [
    "tables_list = [\"de los Reyes 2020(0).json\", \"de los Reyes 2020(1).json\"]\n",
    "tables_list = [f\"Temp/{table}\" for table in tables_list]\n",
    "savepath = \"Temp/de los Reyes 2020.json\"\n",
    "catalog_name = \"de los Reyes 2020\"\n",
    "\n",
    "N_tables = len(tables_list)\n",
    "\n",
    "for i in range(N_tables - 1):\n",
    "    if i == 0:\n",
    "        cat1_path = tables_list[i]\n",
    "        cat2_path = tables_list[i+1]\n",
    "        alt_savepath = savepath\n",
    "        _ = dl.merge_tables(catalog1_path=cat1_path, catalog2_path=cat2_path,\n",
    "                            catalog1_name=catalog_name, catalog2_name=catalog_name,\n",
    "                            alter_savepath=savepath)\n",
    "    elif i == N_tables:\n",
    "        break\n",
    "    else:\n",
    "        cat1_path = savepath\n",
    "        cat2_path = tables_list[i+1]\n",
    "        alt_savepath = savepath\n",
    "        _ = dl.merge_tables(catalog1_path=cat1_path, catalog2_path=cat2_path,\n",
    "                            catalog1_name=catalog_name, catalog2_name=catalog_name,\n",
    "                            alter_savepath=savepath)"
   ]
  },
  {
   "cell_type": "code",
   "execution_count": 4,
   "metadata": {},
   "outputs": [
    {
     "name": "stdout",
     "output_type": "stream",
     "text": [
      "Crossmatching galaxies...\n",
      "Galaxy AndromedaVII not found in cache. \n",
      "Finding the nearest galaxy...\n",
      "Not within the boundary of the nearest galaxy, returning None.\n",
      "No galaxy in the cach matches galaxy AndromedaVII. Adding galaxy to cache...\n",
      "Done adding AndromedaVII to cache.\n",
      "\n",
      "Galaxy AndromedaI not found in cache. \n",
      "Finding the nearest galaxy...\n",
      "Not within the boundary of the nearest galaxy, returning None.\n",
      "No galaxy in the cach matches galaxy AndromedaI. Adding galaxy to cache...\n",
      "Done adding AndromedaI to cache.\n",
      "\n",
      "Galaxy AndromedaIII not found in cache. \n",
      "Finding the nearest galaxy...\n",
      "Not within the boundary of the nearest galaxy, returning None.\n",
      "No galaxy in the cach matches galaxy AndromedaIII. Adding galaxy to cache...\n",
      "Done adding AndromedaIII to cache.\n",
      "\n",
      "Galaxy AndromedaV not found in cache. \n",
      "Finding the nearest galaxy...\n",
      "Not within the boundary of the nearest galaxy, returning None.\n",
      "No galaxy in the cach matches galaxy AndromedaV. Adding galaxy to cache...\n",
      "Done adding AndromedaV to cache.\n",
      "\n",
      "Galaxy AndromedaX not found in cache. \n",
      "Finding the nearest galaxy...\n",
      "Not within the boundary of the nearest galaxy, returning None.\n",
      "No galaxy in the cach matches galaxy AndromedaX. Adding galaxy to cache...\n",
      "Done adding AndromedaX to cache.\n",
      "\n",
      "The updated cache has 28 galaxies and 4069 starsfrom 10 catalogs.\n",
      "Saving cache...\n",
      "Added Kirby 2020 to cache.\n",
      "\n"
     ]
    }
   ],
   "source": [
    "# cat_path = savepath\n",
    "# cat_name = paper_name\n",
    "\n",
    "cat_name = \"Kirby 2020\"\n",
    "cat_path = f\"Temp/{cat_name}.json\"\n",
    "\n",
    "_ = dl.add_catalog(catalog_path=cat_path, catalog_name=cat_name,\n",
    "                   cache_path=cache_path, ref_catalog=\"Kirby 2009\")"
   ]
  },
  {
   "cell_type": "code",
   "execution_count": null,
   "metadata": {},
   "outputs": [],
   "source": []
  }
 ],
 "metadata": {
  "kernelspec": {
   "display_name": "Python 3",
   "language": "python",
   "name": "python3"
  },
  "language_info": {
   "codemirror_mode": {
    "name": "ipython",
    "version": 3
   },
   "file_extension": ".py",
   "mimetype": "text/x-python",
   "name": "python",
   "nbconvert_exporter": "python",
   "pygments_lexer": "ipython3",
   "version": "3.11.0"
  }
 },
 "nbformat": 4,
 "nbformat_minor": 2
}
