{
 "cells": [
  {
   "cell_type": "code",
   "execution_count": 1,
   "metadata": {},
   "outputs": [],
   "source": [
    "import json\n",
    "import utilfuncs\n",
    "import dataloader as dl\n",
    "import plotmaker\n",
    "\n",
    "cache_path = \"Data/cache.json\""
   ]
  },
  {
   "cell_type": "code",
   "execution_count": 2,
   "metadata": {},
   "outputs": [
    {
     "name": "stdout",
     "output_type": "stream",
     "text": [
      "List of galaxies: ['Scl', 'For', 'LeoI', 'Sex', 'LeoII', 'CVnI', 'UMi', 'Dra', 'NGC2419', 'M68', 'M15', 'UMaII', 'M2', 'M53', 'LeoA', 'Aquarius', 'SagDIG', 'TriII']\n"
     ]
    }
   ],
   "source": [
    "cache = json.load(open(cache_path, \"r\"))\n",
    "\n",
    "gal_list = list(cache.keys())\n",
    "print(f\"List of galaxies: {gal_list[1:]}\")\n",
    "\n",
    "# utilfunc.load_data(cache_path, table_columns*, kw_arg(galaxy, paper, etc))\n",
    "# TODO: A universal data-loading function\n",
    "# TODO: Understand what each paper is doing\n",
    "\n",
    "# Presentation for all the literature that I've covered. Understand what's been done \n",
    "#   and how the data has been collected. Goal: 20~30 min summary talk, tell audience \n",
    "#   which reference is the best to be used for what, and how much we should trust them.\n",
    "#   Include a bit of cross-comparison, compare what each study has done for the same physical value\n",
    "\n",
    "# List of questions:\n",
    "# - Instruments for each paper\n",
    "# - Spectral resolution, \n",
    "# - Fitting methodlogy, and put them in README. \n",
    "# (There tend to be two modes: equivalent width, which is to fit absorption features individually,\n",
    "# and spectrum synthesis, where they use a model spectrum to compare with the whole observed spectrum)\n",
    "# - Check consistency between papers. \n",
    "# The idea is to check how robust the data is. Which one should be trust more than the other?\n",
    "# Either answer that question, or put forward the information that will help answering that question."
   ]
  },
  {
   "cell_type": "code",
   "execution_count": 3,
   "metadata": {},
   "outputs": [],
   "source": [
    "# Watch out for the edge case: two stars being named the same way by two different papers\n",
    "# Download Apogee?\n",
    "# Expand the README page to to include the sources\n",
    "# Include a column to link the instrument\n",
    "\n",
    "# A function, if specify element & dSph name, return an astropy.table with star name, ONE RE & DEC for each star, and column from either catalog\n",
    "# If a star is in two references, return the values from both literatures, and make them into an astropy.table\n",
    "\n",
    "# Add the following functions\n",
    "# 1. A list of dSphs, a list of element abundances, and return a table containing name, RA, DEC, and the abundance of each element, and a column indicating source of data, and a column of galaxy\n",
    "#    Generate unique ID for each star. One star may take multiple rows, but we know they're the same star given a unique ID.\n",
    "#    Rows = number of measurements, columns = number of things being measured\n",
    "# 2. "
   ]
  },
  {
   "cell_type": "code",
   "execution_count": 4,
   "metadata": {},
   "outputs": [],
   "source": [
    "# Set catalog_type to \"VizieR\" to distinguish between Vizier and manually imported data files\n",
    "\n",
    "# TODO when refreshing the cache:\n",
    "# - Saving a catalog type (i.e. VizieR)\n",
    "# - Saving the vizier table name\n",
    "# - Read database into an exportable table"
   ]
  },
  {
   "cell_type": "code",
   "execution_count": 1,
   "metadata": {},
   "outputs": [],
   "source": [
    "import pandas as pd\n",
    "\n",
    "META_DATA_KEY = \"Meta data\"\n",
    "\n",
    "def make_dataframe(data, include_meta=True):\n",
    "    \"\"\"Turns data from cache into a pandas dataframe. Optionally, save it in csv format.\n",
    "    \n",
    "    Args:\n",
    "        data: The data to be turned into a table. Stored in the same format as the cache.\n",
    "\n",
    "    Returns:\n",
    "        data_table: The data table.\n",
    "        meta_table: The metadata table.\n",
    "    \"\"\"\n",
    "    metadata_dict = data[META_DATA_KEY]\n",
    "    \n",
    "    data_table = data.copy()\n",
    "    data_table.pop(META_DATA_KEY)\n",
    "\n",
    "    output = pd.DataFrame()\n",
    "\n",
    "    for gal in data_table.keys():\n",
    "        gal = data_table[gal]\n",
    "\n",
    "        gal_data = list(gal.values())\n",
    "\n",
    "        for star in gal_data:\n",
    "            cat_list = list(star.keys())\n",
    "\n",
    "            for cat in cat_list:\n",
    "                cat_data = star[cat]\n",
    "                cat_data['Paper'] = cat\n",
    "\n",
    "                cat_data_temp = pd.DataFrame.from_dict(cat_data, orient='index').T\n",
    "                output = pd.concat([output, cat_data_temp], ignore_index=True)\n",
    "\n",
    "    if include_meta:\n",
    "        # Make a metadata table\n",
    "        metadata_table = pd.DataFrame()\n",
    "\n",
    "        for cat_name in list(metadata_dict['Included titles'].keys()):\n",
    "            cat = metadata_dict['Included titles'][cat_name]\n",
    "            columns = cat['Columns']\n",
    "            source = cat[\"Table info\"]['Data source']\n",
    "            VizieR_tag = cat[\"Table info\"]['Paper tag']\n",
    "            tables_used = cat[\"Table info\"]['Tables used']\n",
    "            members = cat['Members']\n",
    "\n",
    "            cat_info = {\n",
    "                \"Paper name\": cat_name,\n",
    "                \"ViziER tag\": VizieR_tag,\n",
    "                \"Columns\": columns,\n",
    "                \"Members\": members,\n",
    "                \"Data source\": source,\n",
    "                \"Tables included\": tables_used\n",
    "            }\n",
    "\n",
    "            cat_info_temp = pd.DataFrame.from_dict(cat_info, orient='index').T\n",
    "\n",
    "            metadata_table = pd.concat([metadata_table, cat_info_temp], ignore_index=True)\n",
    "        \n",
    "        return output, metadata_table\n",
    "    \n",
    "    return output "
   ]
  },
  {
   "cell_type": "code",
   "execution_count": null,
   "metadata": {},
   "outputs": [],
   "source": []
  }
 ],
 "metadata": {
  "kernelspec": {
   "display_name": "Python 3",
   "language": "python",
   "name": "python3"
  },
  "language_info": {
   "codemirror_mode": {
    "name": "ipython",
    "version": 3
   },
   "file_extension": ".py",
   "mimetype": "text/x-python",
   "name": "python",
   "nbconvert_exporter": "python",
   "pygments_lexer": "ipython3",
   "version": "3.11.0"
  }
 },
 "nbformat": 4,
 "nbformat_minor": 2
}
