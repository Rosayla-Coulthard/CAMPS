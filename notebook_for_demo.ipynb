{
 "cells": [
  {
   "cell_type": "code",
   "execution_count": 1,
   "metadata": {},
   "outputs": [],
   "source": [
    "import json\n",
    "import utilfuncs\n",
    "import dataloader\n",
    "import plotmaker\n",
    "\n",
    "cache_path = \"Data/cache.json\""
   ]
  },
  {
   "cell_type": "code",
   "execution_count": 5,
   "metadata": {},
   "outputs": [
    {
     "name": "stdout",
     "output_type": "stream",
     "text": [
      "Papers included that have data on Sex:\n",
      "['Kirby+ 2010', 'Reichert+ 2020', 'Duggan+, 2018', 'Theler+ 2020']\n",
      "\n",
      "Number of stars in Sex: 257\n",
      "\n",
      "Columns included in Sex:\n",
      "['Kmag', 'logeps_Mg', 'e_tot_Ni', 'logeps_Cr', 'e_Fe_H', 'logeps_Sc', 'e_tot_Zn', 'logeps_Mn', 'Hmag', 'RV', 'e_a_Fe', 'logeps_Ni', 'er_Mg_Fe', 'o_Sc_Fe', 'logeps_Zn', 'Simbad', 'logeps_Eu', 'Imag', 'l_RV', 'e_tot_Sr', 'e_Mg_Fe', 'er_Ca_Fe', 'er_Sc_Fe', 'Abs_abun', 'logeps_Sr', 'Element', 'logeps_Ba', 'Mg_Fe', 'Ba_Fe', 'e_log_g', 'T_eff', 'Sc_Fe', 'Fe_H', 'Absorp_feature_lambda', 'e_Ca_Fe', 'DEJ2000', 'log_g', 'K10', 'e_tot_Cr', 'RAJ2000', 'e_T_eff', 'a_Fe', 'Ion_state', 'e_tot_Eu', 'o_Fe_H', 'e_Ba_Fe', 'Ca_Fe', 'e_tot_Mn', 'logeps_Ti', 'e_Sc_Fe', 'e_tot_Sc', 'er_Fe_H', 'e_tot_Ba', 'e_tot_Ti', 'o_Ca_Fe', 'Vmag', 'e_tot_Mg', 'Jmag', 'Galaxy', 'e_RV', 'Si_Fe', 'Name', 'vt', 'Ti_Fe']\n"
     ]
    }
   ],
   "source": [
    "_ = utilfuncs.demo(cache_path, \"Sex\")"
   ]
  },
  {
   "cell_type": "code",
   "execution_count": 27,
   "metadata": {},
   "outputs": [
    {
     "name": "stdout",
     "output_type": "stream",
     "text": [
      "List of galaxies: ['Scl', 'For', 'LeoI', 'Sex', 'LeoII', 'CVnI', 'UMi', 'Dra', 'TriII', 'Car', 'BooI', 'Sgr', 'RetII', 'UMaII', 'SegI', 'M15', 'M2', 'M53', 'LeoA', 'Aquarius', 'SagDIG', 'AndromedaVII', 'AndromedaI', 'AndromedaIII', 'AndromedaV', 'AndromedaX']\n"
     ]
    }
   ],
   "source": [
    "cache = json.load(open(cache_path, \"r\"))\n",
    "\n",
    "gal_list = list(cache.keys())\n",
    "print(f\"List of galaxies: {gal_list[1:]}\")\n",
    "\n",
    "# utilfunc.load_data(cache_path, table_columns*, kw_arg(galaxy, paper, etc))\n",
    "# TODO: A universal data-loading function\n",
    "# TODO: Understand what each paper is doing\n",
    "\n",
    "# Presentation for all the literature that I've covered. Understand what's been done \n",
    "#   and how the data has been collected. Goal: 20~30 min summary talk, tell audience \n",
    "#   which reference is the best to be used for what, and how much we should trust them.\n",
    "#   Include a bit of cross-comparison, compare what each study has sone for the same physical value\n",
    "\n",
    "# List of questions:\n",
    "# - Instruments for each paper\n",
    "# - Spectral resolution, fitting methodlogy, and put them in README.\n",
    "# - Check consistency between papers. \n",
    "# The idea is to check how robust the data is. Which one should be trust more than the other? Either answer that question, or put forward the information that will help answering that question."
   ]
  },
  {
   "cell_type": "code",
   "execution_count": 9,
   "metadata": {},
   "outputs": [],
   "source": [
    "# Watch out for the edge case: two stars being named the same way by two different papers\n",
    "# Download Apogee?\n",
    "# Expand the README page to to include the sources\n",
    "# Include a column to link the instrument\n",
    "\n",
    "# A function, if specify element & dSph name, return an astropy.table with star name, ONE RE & DEC for each star, and column from either catalog\n",
    "# If a star is in two references, return the values from both literatures, and make them into an astropy.table\n",
    "\n",
    "# Add the following functions\n",
    "# 1. A list of dSphs, a list of element abundances, and return a table containing name, RA, DEC, and the abundance of each element, and a column indicating source of data, and a column of galaxy\n",
    "#    Generate unique ID for each star. One star may take multiple rows, but we know they're the same star given a unique ID.\n",
    "#    Rows = number of measurements, columns = number of things being measured\n",
    "# 2. "
   ]
  },
  {
   "cell_type": "code",
   "execution_count": null,
   "metadata": {},
   "outputs": [],
   "source": [
    "# Set catalog_type to \"VizieR\" to distinguish between Vizier and manually imported data files\n",
    "\n",
    "# TODO when refreshing the cache:\n",
    "# - Saving a catalog type (i.e. VizieR)\n",
    "# - Saving the vizier table name\n",
    "# - Read database into an exportable table"
   ]
  },
  {
   "cell_type": "code",
   "execution_count": null,
   "metadata": {},
   "outputs": [],
   "source": []
  }
 ],
 "metadata": {
  "kernelspec": {
   "display_name": "Python 3",
   "language": "python",
   "name": "python3"
  },
  "language_info": {
   "codemirror_mode": {
    "name": "ipython",
    "version": 3
   },
   "file_extension": ".py",
   "mimetype": "text/x-python",
   "name": "python",
   "nbconvert_exporter": "python",
   "pygments_lexer": "ipython3",
   "version": "3.11.0"
  }
 },
 "nbformat": 4,
 "nbformat_minor": 2
}
