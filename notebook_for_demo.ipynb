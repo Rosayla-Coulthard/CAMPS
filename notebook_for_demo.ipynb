{
 "cells": [
  {
   "cell_type": "code",
   "execution_count": 1,
   "metadata": {},
   "outputs": [],
   "source": [
    "import json\n",
    "import utilfuncs\n",
    "import dataloader\n",
    "\n",
    "cache_path = \"Data/cache.json\""
   ]
  },
  {
   "cell_type": "code",
   "execution_count": 2,
   "metadata": {},
   "outputs": [
    {
     "name": "stdout",
     "output_type": "stream",
     "text": [
      "Papers included that have data on Dra:\n",
      "['Kirby+ 2010', 'Reichert+ 2020', 'Duggan+, 2018']\n",
      "\n",
      "Number of stars in Dra: 303\n",
      "\n",
      "Columns included in Dra:\n",
      "['logeps_Mg', 'e_tot_Ni', 'logeps_Cr', 'e_Fe_H', 'logeps_Sc', 'e_tot_Zn', 'logeps_Mn', 'e_a_Fe', 'logeps_Ni', 'logeps_Zn', 'Simbad', 'logeps_Eu', 'Imag', 'e_tot_Sr', 'Abs_abun', 'logeps_Sr', 'Element', 'logeps_Ba', 'Mg_Fe', 'Ba_Fe', 'e_log_g', 'T_eff', 'Fe_H', 'Absorp_feature_lambda', 'DEJ2000', 'log_g', 'K10', 'e_tot_Cr', 'RAJ2000', 'e_T_eff', 'a_Fe', 'Ion_state', 'e_tot_Eu', 'e_Ba_Fe', 'Ca_Fe', 'e_tot_Mn', 'logeps_Ti', 'e_tot_Sc', 'e_tot_Ba', 'e_tot_Ti', 'Vmag', 'e_tot_Mg', 'Galaxy', 'Si_Fe', 'Name', 'vt', 'Ti_Fe']\n"
     ]
    }
   ],
   "source": [
    "_ = utilfuncs.demo(cache_path, \"Dra\")"
   ]
  },
  {
   "cell_type": "code",
   "execution_count": null,
   "metadata": {},
   "outputs": [],
   "source": []
  }
 ],
 "metadata": {
  "kernelspec": {
   "display_name": "Python 3",
   "language": "python",
   "name": "python3"
  },
  "language_info": {
   "codemirror_mode": {
    "name": "ipython",
    "version": 3
   },
   "file_extension": ".py",
   "mimetype": "text/x-python",
   "name": "python",
   "nbconvert_exporter": "python",
   "pygments_lexer": "ipython3",
   "version": "3.11.0"
  }
 },
 "nbformat": 4,
 "nbformat_minor": 2
}
